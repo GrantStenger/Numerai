{
 "cells": [
  {
   "cell_type": "code",
   "execution_count": 62,
   "metadata": {},
   "outputs": [],
   "source": [
    "\"\"\"\n",
    "Next Steps:\n",
    "Try XGBoost\n",
    "Try t-SNE (https://github.com/danielfrg/tsne)\n",
    "Build ensamble model\n",
    "Try TPOT\n",
    "http://fastml.com/revisiting-numerai/\n",
    "https://medium.com/jim-fleming/notes-on-the-numerai-ml-competition-14e3d42c19f3\n",
    "https://github.com/jimfleming/numerai\n",
    "\"\"\"\n",
    "\n",
    "# Imports\n",
    "import os\n",
    "import numpy as np\n",
    "from scipy.ndimage import imread\n",
    "import cv2\n",
    "import sklearn.utils\n",
    "import pandas as pd\n",
    "import keras\n",
    "from keras.layers import Dense, Activation\n",
    "from keras.models import Sequential\n",
    "from keras.layers import Dense, Activation, MaxPooling2D, Dropout, Flatten, BatchNormalization\n",
    "from keras import optimizers\n",
    "from keras import losses\n",
    "from keras.callbacks import EarlyStopping\n",
    "from matplotlib import pyplot as plt\n",
    "from IPython.display import clear_output\n",
    "#import xgboost as xgb"
   ]
  },
  {
   "cell_type": "code",
   "execution_count": 64,
   "metadata": {
    "collapsed": true
   },
   "outputs": [],
   "source": [
    "training_df = pd.read_csv(\"./numerai_datasets/numerai_training_data.csv\") #393613 rows (0-393612)\n",
    "tournament_df = pd.read_csv(\"./numerai_datasets/numerai_tournament_data.csv\") #243484 rows (0-243483)"
   ]
  },
  {
   "cell_type": "code",
   "execution_count": 65,
   "metadata": {
    "collapsed": true
   },
   "outputs": [],
   "source": [
    "validation_df = tournament_df.loc[tournament_df['data_type'] == \"validation\"] # 46362 rows (0-46361)\n",
    "test_df = tournament_df.loc[tournament_df['data_type'] == \"test\"] #192605 rows (46362-238966)\n",
    "live_df = tournament_df.loc[tournament_df['data_type'] == \"live\"] #4517 rows (238967-243483)\n",
    "predict_df = tournament_df.loc[tournament_df['data_type'] != \"validation\"] # 197122 rows (46362-243483)"
   ]
  },
  {
   "cell_type": "code",
   "execution_count": 66,
   "metadata": {
    "collapsed": true
   },
   "outputs": [],
   "source": [
    "SELECT_SUBSET_PERCENT = 1.0\n",
    "\n",
    "select_count_train = int(len(training_df)*SELECT_SUBSET_PERCENT)\n",
    "select_count_valid = int(len(validation_df)*SELECT_SUBSET_PERCENT)\n",
    "\n",
    "train_X = np.array(training_df.iloc[:select_count_train,3:-1])\n",
    "train_Y = np.array(training_df.iloc[:select_count_train,-1:])\n",
    "\n",
    "validation_X = np.array(validation_df.iloc[:select_count_valid,3:-1])\n",
    "validation_Y = np.array(validation_df.iloc[:select_count_valid,-1:])"
   ]
  },
  {
   "cell_type": "code",
   "execution_count": 67,
   "metadata": {
    "collapsed": true
   },
   "outputs": [],
   "source": [
    "# Initialize simple neural network model\n",
    "model = Sequential()\n",
    "\n",
    "# Hidden layer 1: 4096 neurons, 'relu' activation\n",
    "model.add(Dense(units=4096, input_dim=50))\n",
    "model.add(Activation('relu'))\n",
    "\n",
    "model.add(BatchNormalization())\n",
    "model.add(Dropout(0.4))\n",
    "\n",
    "# Hidden layer 2: 1024 neurons, 'relu' activation\n",
    "model.add(Dense(units=1024))\n",
    "model.add(Activation('relu'))\n",
    "\n",
    "model.add(BatchNormalization())\n",
    "model.add(Dropout(0.4))\n",
    "\n",
    "# Hidden layer 3: 256 neurons, 'relu' activation\n",
    "model.add(Dense(units=256))\n",
    "model.add(Activation('relu'))\n",
    "\n",
    "model.add(BatchNormalization())\n",
    "model.add(Dropout(0.4))\n",
    "\n",
    "# Hidden layer 4: 32 neurons, 'relu' activation\n",
    "model.add(Dense(units=32))\n",
    "model.add(Activation('relu'))\n",
    "\n",
    "model.add(BatchNormalization())\n",
    "model.add(Dropout(0.4))\n",
    "\n",
    "# Output layer: 1 neurons, sigmoid\n",
    "model.add(Dense(units=1))\n",
    "model.add(Activation('sigmoid'))\n",
    "\n",
    "optimizer = optimizers.RMSprop()\n",
    "loss = \"binary_crossentropy\"\n",
    "model.compile(loss=loss, optimizer=optimizer, metrics=['accuracy'])\n",
    "early_stopping = EarlyStopping(monitor='val_loss', min_delta=0, patience=2, verbose=0, mode='auto')"
   ]
  },
  {
   "cell_type": "code",
   "execution_count": 68,
   "metadata": {},
   "outputs": [],
   "source": [
    "# updatable plot\n",
    "# a minimal example (sort of)\n",
    "\n",
    "class PlotLosses(keras.callbacks.Callback):\n",
    "    def on_train_begin(self, logs={}):\n",
    "        self.i = 0\n",
    "        self.x = []\n",
    "        self.losses = []\n",
    "        self.val_losses = []\n",
    "        \n",
    "        self.fig = plt.figure()\n",
    "        \n",
    "        self.logs = []\n",
    "\n",
    "    def on_epoch_end(self, epoch, logs={}):\n",
    "        \n",
    "        self.logs.append(logs)\n",
    "        self.x.append(self.i)\n",
    "        self.losses.append(logs.get('loss'))\n",
    "        self.val_losses.append(logs.get('val_loss'))\n",
    "        self.i += 1\n",
    "        \n",
    "        clear_output(wait=True)\n",
    "        plt.plot(self.x, self.losses, label=\"loss\")\n",
    "        plt.plot(self.x, self.val_losses, label=\"val_loss\")\n",
    "        plt.legend()\n",
    "        plt.show();\n",
    "        \n",
    "plot_losses = PlotLosses()"
   ]
  },
  {
   "cell_type": "code",
   "execution_count": 70,
   "metadata": {},
   "outputs": [
    {
     "data": {
      "image/png": "[encoded data removed]",
      "text/plain": [
       "<matplotlib.figure.Figure at 0x13ae37c18>"
      ]
     },
     "metadata": {},
     "output_type": "display_data"
    },
    {
     "name": "stdout",
     "output_type": "stream",
     "text": [
      "\b\b\b\b\b\b\b\b\b\b\b\b\b\b\b\b\b\b\b\b\b\b\b\b\b\b\b\b\b\b\b\b\b\b\b\b\b\b\b\b\b\b\b\b\b\b\b\b\b\b\b\b\b\b\b\b\b\b\b\b\b\b\b\b\b\b\b\b\b\b\b\b\b\b\b\b\b\b\b\b\b\b\b\b\b\r",
      "314890/314890 [==============================] - 390s 1ms/step - loss: 0.6900 - acc: 0.5318 - val_loss: 0.6945 - val_acc: 0.5044\n"
     ]
    },
    {
     "data": {
      "text/plain": [
       "<keras.callbacks.History at 0x133e5ae10>"
      ]
     },
     "execution_count": 70,
     "metadata": {},
     "output_type": "execute_result"
    }
   ],
   "source": [
    "BATCH_SIZE = 256 # try 32\n",
    "EPOCHS = 30\n",
    "\n",
    "#model.fit(train_X, train_Y, batch_size=BATCH_SIZE, epochs=EPOCHS, validation_split=0.2, verbose=1, shuffle=True)\n",
    "#model.fit(train_X, train_Y, batch_size=BATCH_SIZE, epochs=EPOCHS, validation_split=0.2, callbacks=[early_stopping], verbose=1, shuffle=True)\n",
    "model.fit(train_X, train_Y, batch_size=BATCH_SIZE, epochs=EPOCHS, validation_split=0.2, callbacks=[plot_losses], verbose=1, shuffle=True)"
   ]
  },
  {
   "cell_type": "code",
   "execution_count": 71,
   "metadata": {},
   "outputs": [
    {
     "name": "stdout",
     "output_type": "stream",
     "text": [
      "46362/46362 [==============================] - 17s 373us/step\n",
      "\n",
      "Got 51.21% accuracy\n",
      "Loss:  0.694020559986\n"
     ]
    }
   ],
   "source": [
    "loss, acc = model.evaluate(validation_X, validation_Y, batch_size=BATCH_SIZE, verbose=1)\n",
    "\n",
    "print()\n",
    "print('Got %.2f%% accuracy' % (acc * 100.))\n",
    "print('Loss: ', loss)"
   ]
  },
  {
   "cell_type": "code",
   "execution_count": 72,
   "metadata": {
    "collapsed": true
   },
   "outputs": [],
   "source": [
    "predicted_df = model.predict(tournament_df.iloc[:,3:-1])\n",
    "final_predictions_df = pd.DataFrame(np.concatenate((tournament_df.iloc[:,:1].values, predicted_df), axis=1))"
   ]
  },
  {
   "cell_type": "code",
   "execution_count": 73,
   "metadata": {
    "collapsed": true
   },
   "outputs": [],
   "source": [
    "final_predictions_df.to_csv('predictions_stenger3.csv', index=None)"
   ]
  },
  {
   "cell_type": "code",
   "execution_count": 74,
   "metadata": {},
   "outputs": [
    {
     "name": "stdout",
     "output_type": "stream",
     "text": [
      "Saved: predictions_stenger3.csv\n"
     ]
    }
   ],
   "source": [
    "print('Saved: {}'.format('predictions_stenger3.csv'))"
   ]
  },
  {
   "cell_type": "code",
   "execution_count": null,
   "metadata": {
    "collapsed": true
   },
   "outputs": [],
   "source": []
  }
 ],
 "metadata": {
  "kernelspec": {
   "display_name": "Python 3",
   "language": "python",
   "name": "python3"
  },
  "language_info": {
   "codemirror_mode": {
    "name": "ipython",
    "version": 3
   },
   "file_extension": ".py",
   "mimetype": "text/x-python",
   "name": "python",
   "nbconvert_exporter": "python",
   "pygments_lexer": "ipython3",
   "version": "3.6.3"
  }
 },
 "nbformat": 4,
 "nbformat_minor": 2
}
