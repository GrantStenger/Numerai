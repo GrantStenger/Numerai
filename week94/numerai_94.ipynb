{
 "cells": [
  {
   "cell_type": "code",
   "execution_count": 1,
   "metadata": {},
   "outputs": [
    {
     "name": "stderr",
     "output_type": "stream",
     "text": [
      "Using TensorFlow backend.\n",
      "/Users/Home/anaconda/lib/python3.6/importlib/_bootstrap.py:219: RuntimeWarning: compiletime version 3.5 of module 'tensorflow.python.framework.fast_tensor_util' does not match runtime version 3.6\n",
      "  return f(*args, **kwds)\n"
     ]
    }
   ],
   "source": [
    "\"\"\"\n",
    "Next Steps:\n",
    "Try XGBoost\n",
    "Try t-SNE (https://github.com/danielfrg/tsne)\n",
    "Build ensamble model\n",
    "Try TPOT\n",
    "http://fastml.com/revisiting-numerai/\n",
    "https://medium.com/jim-fleming/notes-on-the-numerai-ml-competition-14e3d42c19f3\n",
    "https://github.com/jimfleming/numerai\n",
    "\"\"\"\n",
    "\n",
    "# Imports\n",
    "import os\n",
    "import numpy as np\n",
    "from scipy.ndimage import imread\n",
    "import cv2\n",
    "import sklearn.utils\n",
    "import pandas as pd\n",
    "from keras.layers import Dense, Activation\n",
    "from keras.models import Sequential\n",
    "from keras.layers import Dense, Activation, MaxPooling2D, Dropout, Flatten, BatchNormalization\n",
    "from keras import optimizers\n",
    "from keras import losses"
   ]
  },
  {
   "cell_type": "code",
   "execution_count": 2,
   "metadata": {},
   "outputs": [],
   "source": [
    "#import xgboost as xgb"
   ]
  },
  {
   "cell_type": "code",
   "execution_count": 3,
   "metadata": {
    "collapsed": true
   },
   "outputs": [],
   "source": [
    "training_df = pd.read_csv(\"./numerai_datasets/numerai_training_data.csv\") #393613 rows (0-393612)\n",
    "tournament_df = pd.read_csv(\"./numerai_datasets/numerai_tournament_data.csv\") #243484 rows (0-243483)"
   ]
  },
  {
   "cell_type": "code",
   "execution_count": 4,
   "metadata": {},
   "outputs": [],
   "source": [
    "validation_df = tournament_df.loc[tournament_df['data_type'] == \"validation\"] # 46362 rows (0-46361)\n",
    "test_df = tournament_df.loc[tournament_df['data_type'] == \"test\"] #192605 rows (46362-238966)\n",
    "live_df = tournament_df.loc[tournament_df['data_type'] == \"live\"] #4517 rows (238967-243483)\n",
    "predict_df = tournament_df.loc[tournament_df['data_type'] != \"validation\"] # 197122 rows (46362-243483)\n",
    "#tournament_df\n",
    "#validation_df\n",
    "#test_df\n",
    "#live_df\n",
    "#predict_df"
   ]
  },
  {
   "cell_type": "code",
   "execution_count": 5,
   "metadata": {
    "collapsed": true
   },
   "outputs": [],
   "source": [
    "SELECT_SUBSET_PERCENT = 1.0\n",
    "\n",
    "select_count_train = int(len(training_df)*SELECT_SUBSET_PERCENT)\n",
    "select_count_valid = int(len(validation_df)*SELECT_SUBSET_PERCENT)\n",
    "\n",
    "train_X = np.array(training_df.iloc[:select_count_train,3:-1])\n",
    "train_Y = np.array(training_df.iloc[:select_count_train,-1:])\n",
    "\n",
    "validation_X = np.array(validation_df.iloc[:select_count_valid,3:-1])\n",
    "validation_Y = np.array(validation_df.iloc[:select_count_valid,-1:])"
   ]
  },
  {
   "cell_type": "code",
   "execution_count": 6,
   "metadata": {
    "collapsed": true
   },
   "outputs": [],
   "source": [
    "# Initialize simple neural network model\n",
    "model = Sequential()\n",
    "\n",
    "# Hidden layer 1: 500 neurons, 'relu' activation\n",
    "model.add(Dense(units=500, input_dim=50))\n",
    "model.add(Activation('relu'))\n",
    "\n",
    "# Hidden layer 2: 250 neurons, 'relu' activation\n",
    "model.add(Dense(units=500))\n",
    "model.add(Activation('relu'))\n",
    "\n",
    "# Hidden layer 3: 250 neurons, 'relu' activation\n",
    "model.add(Dense(units=500))\n",
    "model.add(Activation('relu'))\n",
    "\n",
    "# Hidden layer 4: 250 neurons, 'relu' activation\n",
    "model.add(Dense(units=250))\n",
    "model.add(Activation('relu'))\n",
    "\n",
    "# Hidden layer 5: 250 neurons, 'relu' activation\n",
    "model.add(Dense(units=250))\n",
    "model.add(Activation('relu'))\n",
    "\n",
    "# Output layer: 1 neurons, sigmoid\n",
    "model.add(Dense(units=1))\n",
    "model.add(Activation('sigmoid'))\n",
    "\n",
    "optimizer = optimizers.RMSprop()\n",
    "loss = \"binary_crossentropy\"\n",
    "model.compile(loss=loss, optimizer=optimizer, metrics=['accuracy'])"
   ]
  },
  {
   "cell_type": "code",
   "execution_count": 7,
   "metadata": {
    "collapsed": true
   },
   "outputs": [],
   "source": [
    "BATCH_SIZE = 50\n",
    "EPOCHS = 25"
   ]
  },
  {
   "cell_type": "code",
   "execution_count": 8,
   "metadata": {},
   "outputs": [
    {
     "name": "stdout",
     "output_type": "stream",
     "text": [
      "Train on 314890 samples, validate on 78723 samples\n",
      "Epoch 1/25\n",
      "314890/314890 [==============================] - 128s 407us/step - loss: 0.6933 - acc: 0.5030 - val_loss: 0.6951 - val_acc: 0.5023\n",
      "Epoch 2/25\n",
      "314890/314890 [==============================] - 110s 350us/step - loss: 0.6929 - acc: 0.5103 - val_loss: 0.6932 - val_acc: 0.5062\n",
      "Epoch 3/25\n",
      "314890/314890 [==============================] - 109s 345us/step - loss: 0.6928 - acc: 0.5118 - val_loss: 0.6934 - val_acc: 0.5068\n",
      "Epoch 4/25\n",
      "314890/314890 [==============================] - 112s 356us/step - loss: 0.6927 - acc: 0.5136 - val_loss: 0.6933 - val_acc: 0.5042\n",
      "Epoch 5/25\n",
      "314890/314890 [==============================] - 115s 365us/step - loss: 0.6926 - acc: 0.5140 - val_loss: 0.6938 - val_acc: 0.5041\n",
      "Epoch 6/25\n",
      "314890/314890 [==============================] - 116s 370us/step - loss: 0.6925 - acc: 0.5152 - val_loss: 0.6932 - val_acc: 0.5053\n",
      "Epoch 7/25\n",
      "314890/314890 [==============================] - 119s 377us/step - loss: 0.6926 - acc: 0.5153 - val_loss: 0.6932 - val_acc: 0.5062\n",
      "Epoch 8/25\n",
      "314890/314890 [==============================] - 113s 360us/step - loss: 0.6925 - acc: 0.5150 - val_loss: 0.6937 - val_acc: 0.5040\n",
      "Epoch 9/25\n",
      "314890/314890 [==============================] - 117s 372us/step - loss: 0.6925 - acc: 0.5154 - val_loss: 0.6933 - val_acc: 0.5054\n",
      "Epoch 10/25\n",
      "314890/314890 [==============================] - 116s 369us/step - loss: 0.6925 - acc: 0.5160 - val_loss: 0.6932 - val_acc: 0.5041\n",
      "Epoch 11/25\n",
      "314890/314890 [==============================] - 112s 356us/step - loss: 0.6924 - acc: 0.5162 - val_loss: 0.6932 - val_acc: 0.5049\n",
      "Epoch 12/25\n",
      "314890/314890 [==============================] - 118s 375us/step - loss: 0.6924 - acc: 0.5158 - val_loss: 0.6979 - val_acc: 0.5017\n",
      "Epoch 13/25\n",
      "314890/314890 [==============================] - 117s 370us/step - loss: 0.6924 - acc: 0.5168 - val_loss: 0.6936 - val_acc: 0.5048\n",
      "Epoch 14/25\n",
      "314890/314890 [==============================] - 116s 367us/step - loss: 0.6924 - acc: 0.5166 - val_loss: 0.6935 - val_acc: 0.5048\n",
      "Epoch 15/25\n",
      "314890/314890 [==============================] - 134s 425us/step - loss: 0.6924 - acc: 0.5161 - val_loss: 0.6935 - val_acc: 0.5020\n",
      "Epoch 16/25\n",
      "314890/314890 [==============================] - 116s 369us/step - loss: 0.6924 - acc: 0.5162 - val_loss: 0.6944 - val_acc: 0.5021\n",
      "Epoch 17/25\n",
      "314890/314890 [==============================] - 119s 379us/step - loss: 0.6924 - acc: 0.5173 - val_loss: 0.6940 - val_acc: 0.5025\n",
      "Epoch 18/25\n",
      "314890/314890 [==============================] - 118s 375us/step - loss: 0.6924 - acc: 0.5169 - val_loss: 0.6942 - val_acc: 0.5020\n",
      "Epoch 19/25\n",
      "314890/314890 [==============================] - 118s 374us/step - loss: 0.6924 - acc: 0.5157 - val_loss: 0.6934 - val_acc: 0.5043\n",
      "Epoch 20/25\n",
      "314890/314890 [==============================] - 119s 377us/step - loss: 0.6923 - acc: 0.5170 - val_loss: 0.6941 - val_acc: 0.5016\n",
      "Epoch 21/25\n",
      "314890/314890 [==============================] - 118s 374us/step - loss: 0.6923 - acc: 0.5165 - val_loss: 0.6939 - val_acc: 0.5013\n",
      "Epoch 22/25\n",
      "314890/314890 [==============================] - 119s 377us/step - loss: 0.6924 - acc: 0.5167 - val_loss: 0.6941 - val_acc: 0.5021\n",
      "Epoch 23/25\n",
      "314890/314890 [==============================] - 118s 376us/step - loss: 0.6924 - acc: 0.5171 - val_loss: 0.6942 - val_acc: 0.5020\n",
      "Epoch 24/25\n",
      "314890/314890 [==============================] - 119s 377us/step - loss: 0.6923 - acc: 0.5174 - val_loss: 0.6941 - val_acc: 0.5019\n",
      "Epoch 25/25\n",
      "314890/314890 [==============================] - 119s 379us/step - loss: 0.6923 - acc: 0.5168 - val_loss: 0.6935 - val_acc: 0.5044\n"
     ]
    },
    {
     "data": {
      "text/plain": [
       "<keras.callbacks.History at 0x123cb87b8>"
      ]
     },
     "execution_count": 8,
     "metadata": {},
     "output_type": "execute_result"
    }
   ],
   "source": [
    "model.fit(train_X, train_Y, batch_size=BATCH_SIZE, epochs=EPOCHS, validation_split=0.2, verbose=1, shuffle=True)"
   ]
  },
  {
   "cell_type": "code",
   "execution_count": 9,
   "metadata": {},
   "outputs": [
    {
     "name": "stdout",
     "output_type": "stream",
     "text": [
      "46362/46362 [==============================] - 4s 84us/step\n",
      "\n",
      "Got 51.33% accuracy\n",
      "Loss:  0.69276875501\n"
     ]
    }
   ],
   "source": [
    "loss, acc = model.evaluate(validation_X, validation_Y, batch_size=BATCH_SIZE, verbose=1)\n",
    "\n",
    "print()\n",
    "print('Got %.2f%% accuracy' % (acc * 100.))\n",
    "print('Loss: ', loss)"
   ]
  },
  {
   "cell_type": "code",
   "execution_count": 10,
   "metadata": {
    "collapsed": true
   },
   "outputs": [],
   "source": [
    "predicted_df = model.predict(predict_df.iloc[:,3:-1])"
   ]
  },
  {
   "cell_type": "code",
   "execution_count": 17,
   "metadata": {},
   "outputs": [
    {
     "data": {
      "text/plain": [
       "array([[ 0.50881368],\n",
       "       [ 0.49623519],\n",
       "       [ 0.47298211],\n",
       "       ..., \n",
       "       [ 0.45565328],\n",
       "       [ 0.51859486],\n",
       "       [ 0.49515283]], dtype=float32)"
      ]
     },
     "execution_count": 17,
     "metadata": {},
     "output_type": "execute_result"
    }
   ],
   "source": [
    "predicted_df\n",
    "#s1 = pd.Series(predicted_df, name='probability')\n",
    "#pd.DataFrame(predicted_df)"
   ]
  },
  {
   "cell_type": "code",
   "execution_count": 19,
   "metadata": {},
   "outputs": [
    {
     "data": {
      "text/plain": [
       "array([['n76c75f57cec64cb'],\n",
       "       ['ncc70463e0b6f43c'],\n",
       "       ['nbc4e5adb0ebd41e'],\n",
       "       ..., \n",
       "       ['nf4f724fd48bb4cf'],\n",
       "       ['n45f1d8e9ab8d440'],\n",
       "       ['nf2c8618627354fe']], dtype=object)"
      ]
     },
     "execution_count": 19,
     "metadata": {},
     "output_type": "execute_result"
    }
   ],
   "source": [
    "predict_df.iloc[:,:1].values"
   ]
  },
  {
   "cell_type": "code",
   "execution_count": 25,
   "metadata": {},
   "outputs": [],
   "source": [
    "final_predictions_df = pd.DataFrame(np.concatenate((predict_df.iloc[:,:1].values, predicted_df), axis=1))"
   ]
  },
  {
   "cell_type": "code",
   "execution_count": 26,
   "metadata": {},
   "outputs": [],
   "source": [
    "csv_path = 'predictions_stenger.csv'"
   ]
  },
  {
   "cell_type": "code",
   "execution_count": 27,
   "metadata": {},
   "outputs": [],
   "source": [
    "final_predictions_df.to_csv(csv_path, index=None)"
   ]
  },
  {
   "cell_type": "code",
   "execution_count": 28,
   "metadata": {},
   "outputs": [
    {
     "name": "stdout",
     "output_type": "stream",
     "text": [
      "Saved: predictions_stenger.csv\n"
     ]
    }
   ],
   "source": [
    "print('Saved: {}'.format(csv_path))"
   ]
  }
 ],
 "metadata": {
  "kernelspec": {
   "display_name": "Python 3",
   "language": "python",
   "name": "python3"
  },
  "language_info": {
   "codemirror_mode": {
    "name": "ipython",
    "version": 3
   },
   "file_extension": ".py",
   "mimetype": "text/x-python",
   "name": "python",
   "nbconvert_exporter": "python",
   "pygments_lexer": "ipython3",
   "version": "3.6.3"
  }
 },
 "nbformat": 4,
 "nbformat_minor": 2
}
